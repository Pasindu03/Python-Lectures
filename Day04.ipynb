{
 "cells": [
  {
   "cell_type": "code",
   "execution_count": null,
   "metadata": {},
   "outputs": [
    {
     "name": "stdout",
     "output_type": "stream",
     "text": [
      "(1, 2, 3) <class 'tuple'>\n"
     ]
    }
   ],
   "source": [
    "# arbituary_positional_argument\n",
    "\n",
    "def arbituary_positional_argument(*args):\n",
    "    print(args, type(args))\n",
    "\n",
    "arbituary_positional_argument(1,2,3)"
   ]
  },
  {
   "cell_type": "code",
   "execution_count": 6,
   "metadata": {},
   "outputs": [
    {
     "name": "stdout",
     "output_type": "stream",
     "text": [
      "6\n"
     ]
    }
   ],
   "source": [
    "#write a function to calculate the summation of any given number of numbers\n",
    "\n",
    "def summation_of_numbers(*sums):\n",
    "    return sum(sums)\n",
    "\n",
    "print(summation_of_numbers(1,2,3)) "
   ]
  },
  {
   "cell_type": "code",
   "execution_count": null,
   "metadata": {},
   "outputs": [],
   "source": [
    "#write a function summarize grades that acceptes a student's name as a mandatory argument, and arbituary number of grade scores\n",
    "#(1)print the student name\n",
    "#calculate and print the highest grade, lowest grade and the average grade from the scores\n",
    "#if no grades are provided you should print no grades avaliable.\n",
    "\n",
    "def grade_calculator(name, *scores):\n",
    "    if scores.len == 0 :\n",
    "        print(\"No grades are avaliable\")\n",
    "    else :\n"
   ]
  }
 ],
 "metadata": {
  "kernelspec": {
   "display_name": "Python 3",
   "language": "python",
   "name": "python3"
  },
  "language_info": {
   "codemirror_mode": {
    "name": "ipython",
    "version": 3
   },
   "file_extension": ".py",
   "mimetype": "text/x-python",
   "name": "python",
   "nbconvert_exporter": "python",
   "pygments_lexer": "ipython3",
   "version": "3.13.0"
  }
 },
 "nbformat": 4,
 "nbformat_minor": 2
}
