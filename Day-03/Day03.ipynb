{
 "cells": [
  {
   "cell_type": "code",
   "execution_count": null,
   "metadata": {},
   "outputs": [
    {
     "name": "stdout",
     "output_type": "stream",
     "text": [
      "Even\n"
     ]
    }
   ],
   "source": [
    "x = 10\n",
    "result = \"Even\" if x%2 == 0 else \"Odd\"\n",
    "print(result)"
   ]
  },
  {
   "cell_type": "code",
   "execution_count": 7,
   "metadata": {},
   "outputs": [
    {
     "name": "stdout",
     "output_type": "stream",
     "text": [
      "Not Okay\n"
     ]
    }
   ],
   "source": [
    "x = int(input(\"Enter your number : \"))\n",
    "result = \"It's a Multiplication of 3 and It's Even\" if x%2 == 0 and x%3 == 0 else \"Not Okay\"\n",
    "print(result)"
   ]
  },
  {
   "cell_type": "code",
   "execution_count": 10,
   "metadata": {},
   "outputs": [
    {
     "name": "stdout",
     "output_type": "stream",
     "text": [
      "Something else\n"
     ]
    }
   ],
   "source": [
    "response_code = 203\n",
    "\n",
    "match response_code:\n",
    "    case 200:\n",
    "        print(\"OK\")\n",
    "    case 201:\n",
    "        print(\"Created\")\n",
    "    case 404:\n",
    "        print(\"Not Found\")\n",
    "    case 500:\n",
    "        print(\"Internal Server Error\")\n",
    "    case _:\n",
    "        print(\"Something else\")\n"
   ]
  },
  {
   "cell_type": "code",
   "execution_count": 20,
   "metadata": {},
   "outputs": [
    {
     "name": "stdout",
     "output_type": "stream",
     "text": [
      "Negative number less than negative one\n"
     ]
    }
   ],
   "source": [
    "x = int(input(\"Enter your number\"))\n",
    "\n",
    "match x:\n",
    "    case 0:\n",
    "        print(\"Zero\")\n",
    "    case -1:\n",
    "        print(\"Negative One\")\n",
    "    case 1:\n",
    "        print(\"Positive One\")\n",
    "    case x if x > 1:\n",
    "        print(\"Positive number greater than one\")\n",
    "    case x if x < -1:\n",
    "        print(\"Negative number less than negative one\")\n",
    "    case _:\n",
    "        print(\"Unmatched Case\")"
   ]
  },
  {
   "cell_type": "code",
   "execution_count": 23,
   "metadata": {},
   "outputs": [
    {
     "name": "stdout",
     "output_type": "stream",
     "text": [
      "14\n"
     ]
    }
   ],
   "source": [
    "number = [4, 3, 7]\n",
    "\n",
    "match number:\n",
    "    case[x, y]:\n",
    "        print(x * y)\n",
    "    case[x, y, z]:\n",
    "        print(x + y + z)\n",
    "    case _:\n",
    "        print(\"The list does not containt 2 or 3 numbers!\")"
   ]
  },
  {
   "cell_type": "code",
   "execution_count": 40,
   "metadata": {},
   "outputs": [
    {
     "name": "stdout",
     "output_type": "stream",
     "text": [
      "List has two elements\n"
     ]
    }
   ],
   "source": [
    "list = [1, 2]\n",
    "\n",
    "match list:\n",
    "    case []:\n",
    "        print(\"Empty List\")\n",
    "    case list if len(list) == 1:\n",
    "        print(\"List has a single element\")\n",
    "    case list if len(list) == 2:\n",
    "        print(\"List has two elements\")\n",
    "    case _:\n",
    "        print(\"This is something else\")"
   ]
  },
  {
   "cell_type": "code",
   "execution_count": 27,
   "metadata": {},
   "outputs": [
    {
     "name": "stdout",
     "output_type": "stream",
     "text": [
      "Empty List\n"
     ]
    }
   ],
   "source": [
    "list = []\n",
    "\n",
    "match list:\n",
    "    case []:\n",
    "        print(\"Empty List\")\n",
    "    case [x]:\n",
    "        print(\"List has a single element\")\n",
    "    case [x, y]:\n",
    "        print(\"List has two elements\")\n",
    "    case _:\n",
    "        print(\"This is something else\")"
   ]
  },
  {
   "cell_type": "code",
   "execution_count": 48,
   "metadata": {},
   "outputs": [
    {
     "name": "stdout",
     "output_type": "stream",
     "text": [
      "List has two elements\n"
     ]
    }
   ],
   "source": [
    "x = []\n",
    "\n",
    "match list:\n",
    "    case []:\n",
    "        print(\"Empty List\")\n",
    "    case [x]:\n",
    "        print(\"List has a single element\")\n",
    "    case [x, y]:\n",
    "        print(\"List has two elements\")\n",
    "    case _:\n",
    "        print(\"This is something else\")"
   ]
  },
  {
   "cell_type": "code",
   "execution_count": 52,
   "metadata": {},
   "outputs": [
    {
     "name": "stdout",
     "output_type": "stream",
     "text": [
      "apple\n",
      "banana\n",
      "cherry\n"
     ]
    }
   ],
   "source": [
    "fruits = [\"apple\", \"banana\", \"cherry\"]\n",
    "for fruit in fruits:\n",
    "    print(fruit)"
   ]
  },
  {
   "cell_type": "code",
   "execution_count": 54,
   "metadata": {},
   "outputs": [
    {
     "name": "stdout",
     "output_type": "stream",
     "text": [
      "[4, 25, 64]\n"
     ]
    }
   ],
   "source": [
    "my_list = [2, 5, 8]\n",
    "\n",
    "list_1 = []\n",
    "\n",
    "for mylist in my_list:\n",
    "    list_1.append(mylist ** 2)\n",
    "\n",
    "print(list_1) "
   ]
  },
  {
   "cell_type": "code",
   "execution_count": 57,
   "metadata": {},
   "outputs": [
    {
     "name": "stdout",
     "output_type": "stream",
     "text": [
      "[4, 9, 16, 25]\n"
     ]
    }
   ],
   "source": [
    "my_list = [2, 3, 4, 5]\n",
    "\n",
    "print([x ** 2 for x in my_list])"
   ]
  },
  {
   "cell_type": "code",
   "execution_count": 63,
   "metadata": {},
   "outputs": [
    {
     "name": "stdout",
     "output_type": "stream",
     "text": [
      "[4, 16, 36, 64, 100]\n"
     ]
    }
   ],
   "source": [
    "print([x ** 2 for x in range(2, 11, 2)])"
   ]
  },
  {
   "cell_type": "code",
   "execution_count": 2,
   "metadata": {},
   "outputs": [
    {
     "name": "stdout",
     "output_type": "stream",
     "text": [
      "0 1 2 3 4 End\n"
     ]
    }
   ],
   "source": [
    "m = 5\n",
    "i = 0\n",
    "\n",
    "while i<m:\n",
    "    print(i, end = \" \")\n",
    "    i = i +1\n",
    "print(\"End\")"
   ]
  },
  {
   "cell_type": "code",
   "execution_count": 5,
   "metadata": {},
   "outputs": [
    {
     "name": "stdout",
     "output_type": "stream",
     "text": [
      "10\n",
      " \n",
      "12\n",
      " \n",
      "14\n",
      " \n",
      "16\n",
      " \n",
      "18\n",
      " \n",
      "20\n",
      " \n",
      "22\n",
      " \n",
      "24\n",
      " \n",
      "26\n",
      " \n",
      "28\n",
      " \n",
      "30\n",
      " \n",
      "32\n",
      " \n",
      "34\n",
      " \n",
      "36\n",
      " \n",
      "38\n",
      " \n",
      "40\n",
      " \n",
      "42\n",
      " \n",
      "44\n",
      " \n",
      "46\n",
      " \n",
      "48\n",
      " \n",
      "End of the sequence\n"
     ]
    }
   ],
   "source": [
    "first_num = int(input(\"Enter the first Number : \"))\n",
    "end_num = int(input(\"Enter the Last Number : \"))\n",
    "\n",
    "while first_num < end_num:\n",
    "    print(first_num if first_num%2 == 0 and first_num < end_num else \" \")\n",
    "    first_num = first_num + 1\n",
    "\n",
    "print(\"End of the sequence\")"
   ]
  },
  {
   "cell_type": "code",
   "execution_count": 11,
   "metadata": {},
   "outputs": [
    {
     "name": "stdout",
     "output_type": "stream",
     "text": [
      "2\n",
      "4\n",
      "6\n",
      "8\n"
     ]
    }
   ],
   "source": [
    "x = int(input(\"Enter a Number\"))\n",
    "y = 2\n",
    "\n",
    "while y < x:\n",
    "    if y == 10:\n",
    "        break\n",
    "    else:\n",
    "        print(y)\n",
    "        y += 2\n"
   ]
  },
  {
   "cell_type": "code",
   "execution_count": 13,
   "metadata": {},
   "outputs": [
    {
     "name": "stdout",
     "output_type": "stream",
     "text": [
      "The total of the Entered Numbers is : 10\n"
     ]
    }
   ],
   "source": [
    "y = 0\n",
    "\n",
    "while True:\n",
    "    x = int(input(\"Enter The Number :\"))\n",
    "\n",
    "    if x == 0:\n",
    "        break\n",
    "    else:\n",
    "        y = y + x\n",
    "\n",
    "print(\"The total of the Entered Numbers is :\", y)"
   ]
  },
  {
   "cell_type": "code",
   "execution_count": 19,
   "metadata": {},
   "outputs": [
    {
     "name": "stdout",
     "output_type": "stream",
     "text": [
      "3\n",
      "15\n",
      "9\n",
      "7\n"
     ]
    }
   ],
   "source": [
    "my_list = [3, 8, 15, 10, 9, 7 ,14]\n",
    "\n",
    "for i in my_list:\n",
    "    if i%2==1:print(i)\n",
    "    else:continue "
   ]
  },
  {
   "cell_type": "code",
   "execution_count": 20,
   "metadata": {},
   "outputs": [
    {
     "name": "stdout",
     "output_type": "stream",
     "text": [
      "10 12 8\n"
     ]
    }
   ],
   "source": [
    "my_list = [10, 12, 8]\n",
    "x, y ,z = my_list\n",
    "print(x, y , z)"
   ]
  },
  {
   "cell_type": "code",
   "execution_count": 23,
   "metadata": {},
   "outputs": [
    {
     "name": "stdout",
     "output_type": "stream",
     "text": [
      "10 12 8\n"
     ]
    }
   ],
   "source": [
    "my_tuple = (10, 12, 8)\n",
    "x, y ,z = my_tuple\n",
    "print(x, y , z)"
   ]
  },
  {
   "cell_type": "code",
   "execution_count": 39,
   "metadata": {},
   "outputs": [
    {
     "name": "stdout",
     "output_type": "stream",
     "text": [
      "name John\n",
      "age 25\n",
      "('name', 'John')\n",
      "('age', '25')\n",
      "('name', 'John')\n",
      "('age', '25')\n"
     ]
    }
   ],
   "source": [
    "my_dict = {\n",
    "    \"name\" : \"John\",\n",
    "    \"age\" : \"25\",\n",
    "}\n",
    "\n",
    "for key,value in my_dict.items():\n",
    "    print(key,value)\n",
    "\n",
    "for key in my_dict.items():\n",
    "    print(key)\n",
    "\n",
    "for value in my_dict.items():\n",
    "    print (value)\n",
    "\n"
   ]
  },
  {
   "cell_type": "code",
   "execution_count": 42,
   "metadata": {},
   "outputs": [
    {
     "name": "stdout",
     "output_type": "stream",
     "text": [
      "{'a': 1, 'b': 2}\n"
     ]
    }
   ],
   "source": [
    "dict_1 = {'a': 1}\n",
    "dict_2 = {'b': 2}\n",
    "\n",
    "dict_3 = dict_1 | dict_2\n",
    "\n",
    "print(dict_3)"
   ]
  },
  {
   "cell_type": "code",
   "execution_count": 45,
   "metadata": {},
   "outputs": [
    {
     "name": "stdout",
     "output_type": "stream",
     "text": [
      "2\n"
     ]
    }
   ],
   "source": [
    "my_dict = {\n",
    "    'a' : 1,\n",
    "    'b': 2,\n",
    "    'c' : 3\n",
    "}\n",
    "\n",
    "print(my_dict.get('b'))"
   ]
  },
  {
   "cell_type": "code",
   "execution_count": 4,
   "metadata": {},
   "outputs": [
    {
     "data": {
      "text/plain": [
       "5"
      ]
     },
     "execution_count": 4,
     "metadata": {},
     "output_type": "execute_result"
    }
   ],
   "source": [
    "def sum_calculate (number1, number2):\n",
    "    return number1 + number2\n",
    "\n",
    "sum_calculate(2, 3)"
   ]
  },
  {
   "cell_type": "code",
   "execution_count": 15,
   "metadata": {},
   "outputs": [
    {
     "data": {
      "text/plain": [
       "153.86"
      ]
     },
     "execution_count": 15,
     "metadata": {},
     "output_type": "execute_result"
    }
   ],
   "source": [
    "pi = 3.14\n",
    "\n",
    "def calculate_area (a):\n",
    "    return pi*a**2\n",
    "\n",
    "x = int(input(\"Enter the Radius of the Circle :\"))\n",
    "calculate_area(x)"
   ]
  },
  {
   "cell_type": "code",
   "execution_count": 23,
   "metadata": {},
   "outputs": [
    {
     "name": "stdout",
     "output_type": "stream",
     "text": [
      "Total : 45 / Number of items : 6\n",
      "7.5\n"
     ]
    }
   ],
   "source": [
    "my_list = [4, 8, 12, 5, 9, 7]\n",
    "\n",
    "def calculate_mean (list):\n",
    "    total = 0\n",
    "\n",
    "    for number in list:\n",
    "        total += number\n",
    "\n",
    "    print(\"Total :\",total,\"/\",\"Number of items :\", len(list) )\n",
    "    return total / len(list)\n",
    "\n",
    "print(calculate_mean(my_list))"
   ]
  },
  {
   "cell_type": "code",
   "execution_count": 25,
   "metadata": {},
   "outputs": [
    {
     "data": {
      "text/plain": [
       "7.5"
      ]
     },
     "execution_count": 25,
     "metadata": {},
     "output_type": "execute_result"
    }
   ],
   "source": [
    "my_list = [4, 8, 12, 5, 9, 7]\n",
    "\n",
    "def calculate_mean (list):\n",
    "    return sum(my_list) / len(my_list)\n",
    "\n",
    "calculate_mean(my_list)"
   ]
  },
  {
   "cell_type": "code",
   "execution_count": 28,
   "metadata": {},
   "outputs": [
    {
     "name": "stdout",
     "output_type": "stream",
     "text": [
      "[2, 5, 8, 9]\n",
      "[2, 8]\n",
      "[10, 5, 9, 13]\n"
     ]
    }
   ],
   "source": [
    "my_list = [10, 2, 5, 8, 9, 11, 13]\n",
    "\n",
    "print(my_list[1:5:1])\n",
    "\n",
    "print(my_list[1:5:2])\n",
    "\n",
    "print(my_list[::2])\n"
   ]
  },
  {
   "cell_type": "code",
   "execution_count": 8,
   "metadata": {},
   "outputs": [
    {
     "name": "stdout",
     "output_type": "stream",
     "text": [
      "30.0\n",
      "152.0\n",
      "141.75\n"
     ]
    }
   ],
   "source": [
    "def calculate_total_cost(item_price, quantity, discount = 0, tax = 0):\n",
    "    total = item_price * quantity\n",
    "    discount_price = total * discount/100\n",
    "    total = total - discount_price\n",
    "    tax_price = total * tax/100\n",
    "    total = total + tax_price\n",
    "    return total\n",
    "\n",
    "print(calculate_total_cost(10, 3))\n",
    "\n",
    "print(calculate_total_cost(20, 8, 5))\n",
    "\n",
    "print(calculate_total_cost(30, 5, 10, 5))"
   ]
  }
 ],
 "metadata": {
  "kernelspec": {
   "display_name": "Python 3",
   "language": "python",
   "name": "python3"
  },
  "language_info": {
   "codemirror_mode": {
    "name": "ipython",
    "version": 3
   },
   "file_extension": ".py",
   "mimetype": "text/x-python",
   "name": "python",
   "nbconvert_exporter": "python",
   "pygments_lexer": "ipython3",
   "version": "3.13.0"
  }
 },
 "nbformat": 4,
 "nbformat_minor": 2
}
