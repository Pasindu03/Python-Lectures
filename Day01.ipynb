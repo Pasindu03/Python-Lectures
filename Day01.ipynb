{
 "cells": [
  {
   "cell_type": "code",
   "execution_count": 5,
   "metadata": {},
   "outputs": [
    {
     "name": "stdout",
     "output_type": "stream",
     "text": [
      "hello\n"
     ]
    }
   ],
   "source": [
    "print(\"hello\")"
   ]
  },
  {
   "cell_type": "code",
   "execution_count": 4,
   "metadata": {},
   "outputs": [
    {
     "name": "stdout",
     "output_type": "stream",
     "text": [
      "15\n"
     ]
    }
   ],
   "source": [
    "a = 10\n",
    "b = 5\n",
    "c = a + b\n",
    "print(c)"
   ]
  },
  {
   "cell_type": "code",
   "execution_count": 7,
   "metadata": {},
   "outputs": [
    {
     "name": "stdout",
     "output_type": "stream",
     "text": [
      "200\n",
      "<class 'int'>\n",
      "Type of variable having value 200  is  <class 'int'>\n"
     ]
    }
   ],
   "source": [
    "a = 200\n",
    "print(a)\n",
    "print(type(a))\n",
    "print(\"Type of variable having value\", a , \" is \", type(a))"
   ]
  },
  {
   "cell_type": "code",
   "execution_count": 6,
   "metadata": {},
   "outputs": [
    {
     "name": "stdout",
     "output_type": "stream",
     "text": [
      "25000.0 <class 'float'>\n"
     ]
    }
   ],
   "source": [
    "num_1 = 2.5e4\n",
    "print(num_1, type(num_1))"
   ]
  },
  {
   "cell_type": "code",
   "execution_count": 5,
   "metadata": {},
   "outputs": [
    {
     "name": "stdout",
     "output_type": "stream",
     "text": [
      "12 <class 'int'>\n",
      "5.0 <class 'float'>\n",
      "17.0 <class 'float'>\n"
     ]
    }
   ],
   "source": [
    "num_1 = 5\n",
    "num_2 = 12.7\n",
    "a = int(num_2)\n",
    "c = float(num_1)\n",
    "b = c + a\n",
    "print(a, type(a))\n",
    "print(c, type(c))\n",
    "print(b, type(b))"
   ]
  },
  {
   "cell_type": "code",
   "execution_count": 11,
   "metadata": {},
   "outputs": [
    {
     "name": "stdout",
     "output_type": "stream",
     "text": [
      "[10, 20, 30, 40] <class 'list'>\n"
     ]
    }
   ],
   "source": [
    "my_list = [10, 20, 30, 40]\n",
    "print(my_list, type(my_list))\n"
   ]
  },
  {
   "cell_type": "code",
   "execution_count": 10,
   "metadata": {},
   "outputs": [
    {
     "name": "stdout",
     "output_type": "stream",
     "text": [
      "30\n"
     ]
    }
   ],
   "source": [
    "my_list = [10, 20, 30, 40]\n",
    "print(my_list[2])"
   ]
  },
  {
   "cell_type": "code",
   "execution_count": 9,
   "metadata": {},
   "outputs": [
    {
     "name": "stdout",
     "output_type": "stream",
     "text": [
      "35\n"
     ]
    }
   ],
   "source": [
    "my_list = [10, 20, 30, 40]\n",
    "my_list[2] = 35\n",
    "print(my_list[2])"
   ]
  },
  {
   "cell_type": "code",
   "execution_count": 12,
   "metadata": {},
   "outputs": [
    {
     "name": "stdout",
     "output_type": "stream",
     "text": [
      "5\n"
     ]
    }
   ],
   "source": [
    "my_list = [10, 20, 30, 40, 50]\n",
    "print(len(my_list))"
   ]
  },
  {
   "cell_type": "code",
   "execution_count": 13,
   "metadata": {},
   "outputs": [
    {
     "name": "stdout",
     "output_type": "stream",
     "text": [
      "50\n"
     ]
    }
   ],
   "source": [
    "my_list = [10, 20, 30, 40, 50]\n",
    "print(my_list[-1])"
   ]
  },
  {
   "cell_type": "code",
   "execution_count": 14,
   "metadata": {},
   "outputs": [
    {
     "name": "stdout",
     "output_type": "stream",
     "text": [
      "[30, 40, 50]\n"
     ]
    }
   ],
   "source": [
    "my_list = [10, 20, 30, 40, 50]\n",
    "print(my_list[2:])"
   ]
  },
  {
   "cell_type": "code",
   "execution_count": 15,
   "metadata": {},
   "outputs": [
    {
     "name": "stdout",
     "output_type": "stream",
     "text": [
      "[40, 50, 60]\n"
     ]
    }
   ],
   "source": [
    "my_list = [10, 20, 30, 40, 50, 60, 70, 80]\n",
    "print(my_list[3:6])"
   ]
  },
  {
   "cell_type": "code",
   "execution_count": 16,
   "metadata": {},
   "outputs": [
    {
     "name": "stdout",
     "output_type": "stream",
     "text": [
      "[10, 20, 30, 40, 50]\n"
     ]
    }
   ],
   "source": [
    "my_list = [10, 20, 30, 40, 50, 60, 70, 80]\n",
    "print(my_list[:5])"
   ]
  },
  {
   "cell_type": "code",
   "execution_count": 18,
   "metadata": {},
   "outputs": [
    {
     "name": "stdout",
     "output_type": "stream",
     "text": [
      "[1, 10, 'Dog', 19.0, 8, True]\n"
     ]
    }
   ],
   "source": [
    "my_list = [1, 10, 10, \"cat\", 8, True]\n",
    "my_list[2:4] = [\"Dog\", 19.0]\n",
    "print(my_list)"
   ]
  },
  {
   "cell_type": "code",
   "execution_count": 21,
   "metadata": {},
   "outputs": [
    {
     "name": "stdout",
     "output_type": "stream",
     "text": [
      "[1, 10, 10, 'Dog', 'cat', 8, True] 7\n"
     ]
    }
   ],
   "source": [
    "my_list = [1, 10, 10, \"cat\", 8, True]\n",
    "my_list.insert(3, \"Dog\")\n",
    "print(my_list, len(my_list))"
   ]
  },
  {
   "cell_type": "code",
   "execution_count": 23,
   "metadata": {},
   "outputs": [
    {
     "name": "stdout",
     "output_type": "stream",
     "text": [
      "[1, 10, 10, 'cat', 8, True, 8, True, 'car'] 9\n"
     ]
    }
   ],
   "source": [
    "my_list = [1, 10, 10, \"cat\", 8, True, 8, True]\n",
    "my_list.append(\"car\")\n",
    "print(my_list, len(my_list))"
   ]
  },
  {
   "cell_type": "code",
   "execution_count": 26,
   "metadata": {},
   "outputs": [
    {
     "name": "stdout",
     "output_type": "stream",
     "text": [
      "[1, 10, 10, 'Cat', 8, True, 'Bus', False, 17] 9\n"
     ]
    }
   ],
   "source": [
    "my_list = [1, 10, 10, \"Cat\", 8, True]\n",
    "new_list = [\"Bus\", False, 17]\n",
    "\n",
    "my_list.extend(new_list)\n",
    "print(my_list, len(my_list))"
   ]
  },
  {
   "cell_type": "code",
   "execution_count": 27,
   "metadata": {},
   "outputs": [
    {
     "name": "stdout",
     "output_type": "stream",
     "text": [
      "[1, 10, 'Cat', 8, True] 5\n"
     ]
    }
   ],
   "source": [
    "my_list = [1, 10, 10, \"Cat\", 8, True]\n",
    "my_list.pop(2)\n",
    "print(my_list, len(my_list))"
   ]
  },
  {
   "cell_type": "code",
   "execution_count": 28,
   "metadata": {},
   "outputs": [
    {
     "name": "stdout",
     "output_type": "stream",
     "text": [
      "[1, 10, 'Cat', 8, True] 5\n"
     ]
    }
   ],
   "source": [
    "my_list = [1, 10, 10, \"Cat\", 8, True]\n",
    "del my_list[2]\n",
    "print(my_list, len(my_list))"
   ]
  },
  {
   "cell_type": "code",
   "execution_count": 31,
   "metadata": {},
   "outputs": [],
   "source": [
    "my_list = [1, 10, 10, \"Cat\", 8, True]\n",
    "del my_list"
   ]
  },
  {
   "cell_type": "code",
   "execution_count": 33,
   "metadata": {},
   "outputs": [
    {
     "name": "stdout",
     "output_type": "stream",
     "text": [
      "[] 0\n"
     ]
    }
   ],
   "source": [
    "my_list = [1, 10, 10, \"Cat\", 8, True]\n",
    "my_list.clear()\n",
    "print(my_list, len(my_list))"
   ]
  },
  {
   "cell_type": "code",
   "execution_count": 36,
   "metadata": {},
   "outputs": [
    {
     "name": "stdout",
     "output_type": "stream",
     "text": [
      "['apple', 'banana', 'dog', 'parrot']\n"
     ]
    }
   ],
   "source": [
    "my_list = [\"dog\", \"apple\", \"parrot\", \"banana\"]\n",
    "my_list.sort()\n",
    "print(my_list)"
   ]
  },
  {
   "cell_type": "code",
   "execution_count": 38,
   "metadata": {},
   "outputs": [
    {
     "name": "stdout",
     "output_type": "stream",
     "text": [
      "['Parrot', 'apple', 'banana', 'dog']\n"
     ]
    }
   ],
   "source": [
    "my_list = [\"dog\", \"apple\", \"Parrot\", \"banana\"]\n",
    "my_list.sort()\n",
    "print(my_list)"
   ]
  },
  {
   "cell_type": "code",
   "execution_count": 44,
   "metadata": {},
   "outputs": [
    {
     "name": "stdout",
     "output_type": "stream",
     "text": [
      "['apple', 'banana', 'dog', 'Parrot']\n"
     ]
    }
   ],
   "source": [
    "my_list = [\"dog\", \"apple\", \"Parrot\", \"banana\"]\n",
    "my_list.sort(key=str.lower)\n",
    "print(my_list)"
   ]
  },
  {
   "cell_type": "code",
   "execution_count": 46,
   "metadata": {},
   "outputs": [
    {
     "name": "stdout",
     "output_type": "stream",
     "text": [
      "['dog', 'banana', 'apple', 'Parrot']\n"
     ]
    }
   ],
   "source": [
    "my_list = [\"dog\", \"apple\", \"Parrot\", \"banana\"]\n",
    "my_list.sort(reverse=True)\n",
    "print(my_list)"
   ]
  },
  {
   "cell_type": "code",
   "execution_count": 45,
   "metadata": {},
   "outputs": [
    {
     "name": "stdout",
     "output_type": "stream",
     "text": [
      "['Parrot', 'dog', 'banana', 'apple']\n"
     ]
    }
   ],
   "source": [
    "my_list = [\"dog\", \"apple\", \"Parrot\", \"banana\"]\n",
    "my_list.sort(reverse=True, key=str.lower)\n",
    "print(my_list)"
   ]
  },
  {
   "cell_type": "code",
   "execution_count": 47,
   "metadata": {},
   "outputs": [
    {
     "name": "stdout",
     "output_type": "stream",
     "text": [
      "['banana', 'Parrot', 'apple', 'dog']\n"
     ]
    }
   ],
   "source": [
    "my_list = [\"dog\", \"apple\", \"Parrot\", \"banana\"]\n",
    "my_list.reverse()\n",
    "print(my_list)"
   ]
  },
  {
   "cell_type": "code",
   "execution_count": 108,
   "metadata": {},
   "outputs": [
    {
     "name": "stdout",
     "output_type": "stream",
     "text": [
      "[-18, -10, -3, -3, 2, 4, 5, 7, 8, 9, 11, 12, 12]\n",
      "13\n",
      "Median of the Combined Set is 5 And It's Position is 7\n",
      "The index of the Combined Set of Q1 positions are 2 and 3\n",
      "The Value of the Q1 is -3.0\n",
      "The index of the Combined Set of Q3 positions are 9 and 10\n",
      "The Value of the Q3 is 10.0\n"
     ]
    }
   ],
   "source": [
    "my_list1 = [-10, -18, 12, 5, 7, 12, -3]\n",
    "my_list2 = [8, 4, -3, 9, 2, 11]\n",
    "my_list = my_list1 + my_list2\n",
    "my_list.sort()\n",
    "print(my_list)\n",
    "print(len(my_list))\n",
    "\n",
    "var = int(len(my_list)/2)\n",
    "print(\"Median of the Combined Set is\", my_list[var] , \"And It's Position is\", var + 1)\n",
    "\n",
    "q1 = len(my_list[:var-1])\n",
    "q1_first = int(q1/2)\n",
    "q1_second = q1_first + 1\n",
    "print(\"The index of the Combined Set of Q1 positions are\", q1_first, \"and\", q1_second)\n",
    "q1_value = (my_list[q1_first] + my_list[q1_second])/2\n",
    "print(\"The Value of the Q1 is\", q1_value)\n",
    "\n",
    "q3 = len(my_list[var+1:])\n",
    "q3_first = int(q3/2 + var)\n",
    "q3_second = int(q3/2 + 1 + var)\n",
    "print(\"The index of the Combined Set of Q3 positions are\", q3_first, \"and\", q3_second)\n",
    "q3_value = (my_list[q3_first] + my_list[q3_second])/2\n",
    "print(\"The Value of the Q3 is\", q3_value)"
   ]
  }
 ],
 "metadata": {
  "kernelspec": {
   "display_name": "Python 3",
   "language": "python",
   "name": "python3"
  },
  "language_info": {
   "codemirror_mode": {
    "name": "ipython",
    "version": 3
   },
   "file_extension": ".py",
   "mimetype": "text/x-python",
   "name": "python",
   "nbconvert_exporter": "python",
   "pygments_lexer": "ipython3",
   "version": "3.13.0"
  }
 },
 "nbformat": 4,
 "nbformat_minor": 2
}
