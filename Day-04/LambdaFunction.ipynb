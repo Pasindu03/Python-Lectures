{
 "cells": [
  {
   "cell_type": "code",
   "execution_count": 4,
   "metadata": {},
   "outputs": [
    {
     "name": "stdout",
     "output_type": "stream",
     "text": [
      "10\n"
     ]
    }
   ],
   "source": [
    "add = lambda x,y : x + y\n",
    "\n",
    "print(add(4 , 6))"
   ]
  },
  {
   "cell_type": "code",
   "execution_count": 14,
   "metadata": {},
   "outputs": [
    {
     "name": "stdout",
     "output_type": "stream",
     "text": [
      "8\n"
     ]
    }
   ],
   "source": [
    "print((lambda x,y : x + y)(5, 3))"
   ]
  },
  {
   "cell_type": "code",
   "execution_count": 26,
   "metadata": {},
   "outputs": [
    {
     "name": "stdout",
     "output_type": "stream",
     "text": [
      "[('Pasindu', 20), ('John', 25)]\n"
     ]
    }
   ],
   "source": [
    "#write a python program that, takes a list of tuples, where each tuple contains a name(string) and age(integer).\n",
    "# Use a lambda function to filter out the tuples where the age is less than 18\n",
    "# Print the list of tuples after filtering\n",
    "\n",
    "people = [(\"Pasindu\", 20), (\"Yapa\", 15), (\"John\", 25), (\"Dreaca\", 17)]\n",
    "\n",
    "print(list(filter(lambda people : people[1] >= 18, people)))\n"
   ]
  },
  {
   "cell_type": "code",
   "execution_count": 31,
   "metadata": {},
   "outputs": [
    {
     "name": "stdout",
     "output_type": "stream",
     "text": [
      "22\n",
      "33\n",
      "55\n"
     ]
    }
   ],
   "source": [
    "def myfunc(n):\n",
    "    return lambda a : a * n\n",
    "\n",
    "mydoubles = myfunc(2)\n",
    "\n",
    "print(mydoubles(11))\n",
    "\n",
    "mydoubles = myfunc(3)\n",
    "\n",
    "print(mydoubles(11))\n",
    "\n",
    "mydoubles = myfunc(5)\n",
    "\n",
    "print(mydoubles(11))"
   ]
  },
  {
   "cell_type": "code",
   "execution_count": 35,
   "metadata": {},
   "outputs": [
    {
     "name": "stdout",
     "output_type": "stream",
     "text": [
      "3\n"
     ]
    }
   ],
   "source": [
    "#write a lambda function to decide the number between two numbers(max value return) on two input numbers\n",
    "print((lambda x, y : x if x > y else y)(2, 3))\n"
   ]
  }
 ],
 "metadata": {
  "kernelspec": {
   "display_name": "Python 3",
   "language": "python",
   "name": "python3"
  },
  "language_info": {
   "codemirror_mode": {
    "name": "ipython",
    "version": 3
   },
   "file_extension": ".py",
   "mimetype": "text/x-python",
   "name": "python",
   "nbconvert_exporter": "python",
   "pygments_lexer": "ipython3",
   "version": "3.13.0"
  }
 },
 "nbformat": 4,
 "nbformat_minor": 2
}
