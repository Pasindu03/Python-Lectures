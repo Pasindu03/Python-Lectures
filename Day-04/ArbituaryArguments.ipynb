{
 "cells": [
  {
   "cell_type": "code",
   "execution_count": null,
   "metadata": {},
   "outputs": [
    {
     "name": "stdout",
     "output_type": "stream",
     "text": [
      "(1, 2, 3) <class 'tuple'>\n"
     ]
    }
   ],
   "source": [
    "# arbituary_positional_argument\n",
    "\n",
    "def arbituary_positional_argument(*args):\n",
    "    print(args, type(args))\n",
    "\n",
    "arbituary_positional_argument(1,2,3)"
   ]
  },
  {
   "cell_type": "code",
   "execution_count": 6,
   "metadata": {},
   "outputs": [
    {
     "name": "stdout",
     "output_type": "stream",
     "text": [
      "6\n"
     ]
    }
   ],
   "source": [
    "#write a function to calculate the summation of any given number of numbers\n",
    "\n",
    "def summation_of_numbers(*sums):\n",
    "    return sum(sums)\n",
    "\n",
    "print(summation_of_numbers(1,2,3)) "
   ]
  },
  {
   "cell_type": "code",
   "execution_count": 14,
   "metadata": {},
   "outputs": [
    {
     "name": "stdout",
     "output_type": "stream",
     "text": [
      "Student Name : Pasindu\n",
      "Student's Highest Score 85\n",
      "Student's Lowest Score : 23\n",
      "Student's Avarage Scores : 61.0\n"
     ]
    }
   ],
   "source": [
    "#write a function summarize grades that acceptes a student's name as a mandatory argument, and arbituary number of grade scores\n",
    "#(1)print the student name\n",
    "#calculate and print the highest grade, lowest grade and the average grade from the scores\n",
    "#if no grades are provided you should print no grades avaliable.\n",
    "\n",
    "def grade_calculator(name, *scores):\n",
    "    print(\"Student Name :\", name)\n",
    "\n",
    "    if len(scores) == 0 :\n",
    "        print(\"No grades are avaliable\")\n",
    "    else :\n",
    "        print(\"Student's Highest Score\", max(scores))\n",
    "        print(\"Student's Lowest Score :\", min(scores))\n",
    "        print(\"Student's Avarage Scores :\", sum(scores)/len(scores))\n",
    "\n",
    "grade_calculator(\"Pasindu\", 75, 85,64, 65,54,23)"
   ]
  },
  {
   "cell_type": "code",
   "execution_count": 18,
   "metadata": {},
   "outputs": [
    {
     "name": "stdout",
     "output_type": "stream",
     "text": [
      "<class 'dict'>\n",
      "name : John\n",
      "age : 25\n",
      "city : New York\n"
     ]
    }
   ],
   "source": [
    "#arbituary keyword argument\n",
    "\n",
    "def arbituary_keywords_argument(**kwargs):\n",
    "    print(type(kwargs))\n",
    "\n",
    "    for key, value in kwargs.items():\n",
    "        print(f\"{key} : {value}\")\n",
    "\n",
    "arbituary_keywords_argument(name=\"John\", age=25, city=\"New York\")"
   ]
  },
  {
   "cell_type": "code",
   "execution_count": 4,
   "metadata": {},
   "outputs": [
    {
     "name": "stdout",
     "output_type": "stream",
     "text": [
      "Employee Name : Pasindu\n",
      "age : 21\n",
      "city : New York\n",
      "department : IT\n"
     ]
    },
    {
     "data": {
      "text/plain": [
       "{'name': 'Pasindu', 'age': 21, 'city': 'New York', 'department': 'IT'}"
      ]
     },
     "execution_count": 4,
     "metadata": {},
     "output_type": "execute_result"
    }
   ],
   "source": [
    "#Employees Management System\n",
    "## Write a python function called employee_info that accepts a required name parameter and arbitury number of keywords arguments,\n",
    "## representing additional information about the employee. The function should,\n",
    "### 1. print the employee's name \n",
    "### 2. Iterate through the keywords arguments and print each key value pair in the format \"<key> : <value>\"\n",
    "### Bonus Question : Return a dictionary, with all the employee details\n",
    "\n",
    "def employee_info(name, **details):\n",
    "    print(\"Employee Name :\", name)\n",
    "\n",
    "    for key, value in details.items():\n",
    "        print(f\"{key} : {value}\")\n",
    "\n",
    "    return {\"name\": name, **details}\n",
    "    \n",
    "employee_info(\"Pasindu\", age=21, city=\"New York\", department=\"IT\")\n"
   ]
  },
  {
   "cell_type": "code",
   "execution_count": null,
   "metadata": {},
   "outputs": [],
   "source": []
  },
  {
   "cell_type": "code",
   "execution_count": null,
   "metadata": {},
   "outputs": [],
   "source": []
  },
  {
   "cell_type": "code",
   "execution_count": null,
   "metadata": {},
   "outputs": [],
   "source": []
  }
 ],
 "metadata": {
  "kernelspec": {
   "display_name": "Python 3",
   "language": "python",
   "name": "python3"
  },
  "language_info": {
   "codemirror_mode": {
    "name": "ipython",
    "version": 3
   },
   "file_extension": ".py",
   "mimetype": "text/x-python",
   "name": "python",
   "nbconvert_exporter": "python",
   "pygments_lexer": "ipython3",
   "version": "3.13.0"
  }
 },
 "nbformat": 4,
 "nbformat_minor": 2
}
