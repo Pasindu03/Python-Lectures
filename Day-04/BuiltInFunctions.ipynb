{
 "cells": [
  {
   "cell_type": "code",
   "execution_count": 1,
   "metadata": {},
   "outputs": [
    {
     "name": "stdout",
     "output_type": "stream",
     "text": [
      "20\n",
      "20\n"
     ]
    }
   ],
   "source": [
    "#1. Absolute - abs()\n",
    "\n",
    "print(abs(-20))\n",
    "print(abs(20))\n"
   ]
  },
  {
   "cell_type": "code",
   "execution_count": 5,
   "metadata": {},
   "outputs": [
    {
     "name": "stdout",
     "output_type": "stream",
     "text": [
      "<map object at 0x0000021782967460> <class 'list'>\n",
      "[25, 9, 4] <class 'list'>\n"
     ]
    }
   ],
   "source": [
    "my_list = [5, 3, 2]\n",
    "\n",
    "def find_square(x):\n",
    "    return x*x\n",
    "\n",
    "result = map(find_square, my_list)\n",
    "print(result, type(my_list))\n",
    "\n",
    "result = list(result)\n",
    "print(result, type(my_list))"
   ]
  },
  {
   "cell_type": "code",
   "execution_count": 7,
   "metadata": {},
   "outputs": [
    {
     "name": "stdout",
     "output_type": "stream",
     "text": [
      "[19, 17, 11, 6]\n"
     ]
    }
   ],
   "source": [
    "my_list_1 = [10, 12, 7, 5]\n",
    "my_list_2 = [9, 5, 4, 1]\n",
    "\n",
    "def find_corresponding_sum(x, y):\n",
    "    return x + y\n",
    "\n",
    "result = map(find_corresponding_sum, my_list_1, my_list_2)\n",
    "\n",
    "print(list(result))"
   ]
  },
  {
   "cell_type": "code",
   "execution_count": 14,
   "metadata": {},
   "outputs": [
    {
     "name": "stdout",
     "output_type": "stream",
     "text": [
      "[68.0, 86.0, 77.0, 104.0, 122.0]\n"
     ]
    }
   ],
   "source": [
    "#You have a list of integers representing temperatures in celcius\n",
    "# temperature = [20, 30, 25, 40, 50]\n",
    "# write a python program using the map function to convert these temperatures into Fahrenheit\n",
    "# use the formula, Fahrenheit = celcius * 9/5 + 32\n",
    "\n",
    "temperature = [20, 30, 25, 40, 50]\n",
    "def fahrenheit_calculator(celcius):\n",
    "    return celcius * 9/5 + 32\n",
    "\n",
    "result = map(fahrenheit_calculator, temperature)\n",
    "print(list(result))"
   ]
  },
  {
   "cell_type": "code",
   "execution_count": 19,
   "metadata": {},
   "outputs": [
    {
     "name": "stdout",
     "output_type": "stream",
     "text": [
      "<class 'filter'>\n",
      "[8, 12, 14]\n"
     ]
    }
   ],
   "source": [
    "# Using filter function to odd number out of a list\n",
    "\n",
    "my_list = [5, 7, 8, 3, 12, 14]\n",
    "\n",
    "def is_odd(x):\n",
    "    return x % 2== 0\n",
    "\n",
    "result = filter(is_odd, my_list)\n",
    "print(type(result))\n",
    "print(list(result))"
   ]
  },
  {
   "cell_type": "code",
   "execution_count": null,
   "metadata": {},
   "outputs": [],
   "source": []
  }
 ],
 "metadata": {
  "kernelspec": {
   "display_name": "Python 3",
   "language": "python",
   "name": "python3"
  },
  "language_info": {
   "codemirror_mode": {
    "name": "ipython",
    "version": 3
   },
   "file_extension": ".py",
   "mimetype": "text/x-python",
   "name": "python",
   "nbconvert_exporter": "python",
   "pygments_lexer": "ipython3",
   "version": "3.13.0"
  }
 },
 "nbformat": 4,
 "nbformat_minor": 2
}
