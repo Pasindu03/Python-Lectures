{
 "cells": [
  {
   "cell_type": "code",
   "execution_count": 13,
   "metadata": {},
   "outputs": [
    {
     "name": "stdout",
     "output_type": "stream",
     "text": [
      "Current mylist1 : [10, 20, 'Dog', 'Cat']\n",
      "Current mylist2 : [10, 20, 'Dog', 'Cat']\n",
      "New mylist1 : [10, 30, 'Dog', 'Cat']\n",
      "Unchanged mylist2 : [10, 20, 'Dog', 'Cat']\n"
     ]
    }
   ],
   "source": [
    "my_list_1 = [10, 20, \"Dog\", \"Cat\"]\n",
    "my_list_2 = []\n",
    "my_list_2 = my_list_1.copy()\n",
    "\n",
    "print(\"Current mylist1 :\", my_list_1)\n",
    "print(\"Current mylist2 :\",my_list_2)\n",
    "\n",
    "my_list_1[1] = 30\n",
    "\n",
    "print(\"New mylist1 :\", my_list_1)\n",
    "print(\"Unchanged mylist2 :\", my_list_2)"
   ]
  },
  {
   "cell_type": "code",
   "execution_count": 15,
   "metadata": {},
   "outputs": [
    {
     "name": "stdout",
     "output_type": "stream",
     "text": [
      "[10, 20, 'Dog', 'Cat']\n",
      "[10, 20, 'Dog', 'Cat']\n"
     ]
    }
   ],
   "source": [
    "my_list_1 = [10, 20, 'Dog', 'Cat']\n",
    "my_list_2 = list(my_list_1)\n",
    "print(my_list_2)\n",
    "\n",
    "my_list_1[3] = 'Parrot'\n",
    "\n",
    "print(my_list_2)"
   ]
  },
  {
   "cell_type": "code",
   "execution_count": 18,
   "metadata": {},
   "outputs": [
    {
     "name": "stdout",
     "output_type": "stream",
     "text": [
      "[10, 20, 'Dog', 'Cat', 1, 5, 20, 30]\n"
     ]
    }
   ],
   "source": [
    "my_list_1 = [10, 20, \"Dog\", \"Cat\"]\n",
    "my_list_2 = [1, 5, 20, 30]\n",
    "\n",
    "my_list_3 = my_list_1 + my_list_2\n",
    "print(my_list_3)"
   ]
  },
  {
   "cell_type": "code",
   "execution_count": 21,
   "metadata": {},
   "outputs": [
    {
     "name": "stdout",
     "output_type": "stream",
     "text": [
      "3\n",
      "<class 'tuple'>\n"
     ]
    }
   ],
   "source": [
    "# Tuples\n",
    "\n",
    "my_list_1 = (12, 'Dog', 20) \n",
    "print(len(my_list_1))\n",
    "\n",
    "print(type(my_list_1))"
   ]
  },
  {
   "cell_type": "code",
   "execution_count": 22,
   "metadata": {},
   "outputs": [
    {
     "name": "stdout",
     "output_type": "stream",
     "text": [
      "<class 'str'>\n"
     ]
    }
   ],
   "source": [
    "my_list_1 = (\"Dog\")\n",
    "\n",
    "print(type(my_list_1))"
   ]
  },
  {
   "cell_type": "code",
   "execution_count": 23,
   "metadata": {},
   "outputs": [
    {
     "name": "stdout",
     "output_type": "stream",
     "text": [
      "<class 'str'>\n",
      "<class 'tuple'>\n"
     ]
    }
   ],
   "source": [
    "my_list_1 = (\"Dog\")\n",
    "\n",
    "print(type(my_list_1))\n",
    "\n",
    "# This is comes as string\n",
    "\n",
    "my_list_2 = (\"Dog\",)\n",
    "\n",
    "print(type(my_list_2))\n",
    "\n",
    "# With the comma, It comes as a tuple"
   ]
  },
  {
   "cell_type": "code",
   "execution_count": 1,
   "metadata": {},
   "outputs": [
    {
     "ename": "TypeError",
     "evalue": "'tuple' object does not support item assignment",
     "output_type": "error",
     "traceback": [
      "\u001b[1;31m---------------------------------------------------------------------------\u001b[0m",
      "\u001b[1;31mTypeError\u001b[0m                                 Traceback (most recent call last)",
      "Cell \u001b[1;32mIn[1], line 2\u001b[0m\n\u001b[0;32m      1\u001b[0m my_tuple_1 \u001b[38;5;241m=\u001b[39m (\u001b[38;5;124m\"\u001b[39m\u001b[38;5;124mDog\u001b[39m\u001b[38;5;124m\"\u001b[39m, \u001b[38;5;124m\"\u001b[39m\u001b[38;5;124mCat\u001b[39m\u001b[38;5;124m\"\u001b[39m, \u001b[38;5;241m10\u001b[39m)\n\u001b[1;32m----> 2\u001b[0m \u001b[43mmy_tuple_1\u001b[49m\u001b[43m[\u001b[49m\u001b[38;5;241;43m1\u001b[39;49m\u001b[43m]\u001b[49m \u001b[38;5;241m=\u001b[39m (\u001b[38;5;124m\"\u001b[39m\u001b[38;5;124mRat\u001b[39m\u001b[38;5;124m\"\u001b[39m)\n\u001b[0;32m      3\u001b[0m \u001b[38;5;28mprint\u001b[39m(my_tuple_1)\n",
      "\u001b[1;31mTypeError\u001b[0m: 'tuple' object does not support item assignment"
     ]
    }
   ],
   "source": [
    "my_tuple_1 = (\"Dog\", \"Cat\", 10)\n",
    "my_tuple_1[1] = (\"Rat\")\n",
    "print(my_tuple_1)"
   ]
  },
  {
   "cell_type": "code",
   "execution_count": 4,
   "metadata": {},
   "outputs": [
    {
     "name": "stdout",
     "output_type": "stream",
     "text": [
      "('Dog', 'Rat', 10) <class 'tuple'>\n"
     ]
    }
   ],
   "source": [
    "my_tuple_1 = (\"Dog\", \"Cat\", 10)\n",
    "\n",
    "my_list_1 = list(my_tuple_1)\n",
    "\n",
    "my_list_1[1] = \"Rat\"\n",
    "\n",
    "my_tuple_1 = tuple(my_list_1)\n",
    "\n",
    "print(my_tuple_1, type(my_tuple_1))"
   ]
  },
  {
   "cell_type": "code",
   "execution_count": 15,
   "metadata": {},
   "outputs": [
    {
     "name": "stdout",
     "output_type": "stream",
     "text": [
      "(-1, 5, 5, 8, 9, 10) <class 'tuple'>\n"
     ]
    }
   ],
   "source": [
    "my_tuple_1 = (10, 8, 20, 5)\n",
    "my_tuple_2 = (5, 9, -1)\n",
    "\n",
    "my_list_1 = list(my_tuple_1)\n",
    "my_list_1.remove(20)\n",
    "\n",
    "my_list_2 = list(my_tuple_2)\n",
    "my_list_3 = my_list_1 + my_list_2\n",
    "\n",
    "my_list_3.sort()\n",
    "my_tuple_3 = tuple(my_list_3)\n",
    "\n",
    "print(my_tuple_3, type(my_tuple_3))\n"
   ]
  },
  {
   "cell_type": "code",
   "execution_count": 19,
   "metadata": {},
   "outputs": [
    {
     "name": "stdout",
     "output_type": "stream",
     "text": [
      "10 Rat True\n"
     ]
    }
   ],
   "source": [
    "# Nested Tuple\n",
    "\n",
    "my_tuple_1 = ((1, 10, 8), (\"Dog\", \"Cat\",\"Rat\"), (True, False))\n",
    "\n",
    "print(my_tuple_1[0][1], my_tuple_1[1][2], my_tuple_1[2][0])\n"
   ]
  },
  {
   "cell_type": "code",
   "execution_count": 25,
   "metadata": {},
   "outputs": [
    {
     "name": "stdout",
     "output_type": "stream",
     "text": [
      "<class 'range'>\n"
     ]
    }
   ],
   "source": [
    "# Range\n",
    "\n",
    "S_1 = range(2, 17, 3)\n",
    "\n",
    "print(type(S_1))"
   ]
  },
  {
   "cell_type": "code",
   "execution_count": 31,
   "metadata": {},
   "outputs": [
    {
     "name": "stdout",
     "output_type": "stream",
     "text": [
      "{'name': 'sugar', 'price': 250.5, 'weight': '1kg'} <class 'dict'>\n"
     ]
    }
   ],
   "source": [
    "# Dictionaries\n",
    "\n",
    "dict_1 = {\n",
    "    \"name\" : \"sugar\",\n",
    "    \"price\" : 250.50,\n",
    "    \"weight\" : \"1kg\"\n",
    "}\n",
    "\n",
    "print(dict_1, type(dict_1))"
   ]
  },
  {
   "cell_type": "code",
   "execution_count": 34,
   "metadata": {},
   "outputs": [
    {
     "name": "stdout",
     "output_type": "stream",
     "text": [
      "{'name': 'sugar', 'price': 120.25, 'weight': '1kg'}\n"
     ]
    }
   ],
   "source": [
    "dict_1 = {\n",
    "    \"name\" : \"sugar\",\n",
    "    \"price\" : 250.50,\n",
    "    \"price\" : 120.25,\n",
    "    \"weight\" : \"1kg\"\n",
    "}\n",
    "\n",
    "print(dict_1)"
   ]
  },
  {
   "cell_type": "code",
   "execution_count": 38,
   "metadata": {},
   "outputs": [
    {
     "name": "stdout",
     "output_type": "stream",
     "text": [
      "3\n"
     ]
    }
   ],
   "source": [
    "dict_1 = {\n",
    "    \"name\" : \"sugar\",\n",
    "    \"price\" : 120.25,\n",
    "    \"weight\" : \"1kg\"\n",
    "}\n",
    "\n",
    "print(len(dict_1))"
   ]
  },
  {
   "cell_type": "code",
   "execution_count": 40,
   "metadata": {},
   "outputs": [
    {
     "name": "stdout",
     "output_type": "stream",
     "text": [
      "1kg\n"
     ]
    }
   ],
   "source": [
    "dict_1 = {\n",
    "    \"name\" : \"sugar\",\n",
    "    \"price\" : 120.25,\n",
    "    \"weight\" : \"1kg\"\n",
    "}\n",
    "\n",
    "print(dict_1[\"weight\"])"
   ]
  },
  {
   "cell_type": "code",
   "execution_count": 43,
   "metadata": {},
   "outputs": [
    {
     "name": "stdout",
     "output_type": "stream",
     "text": [
      "{'name': 'sugar', 'price': 350.5, 'weight': '1kg'}\n"
     ]
    }
   ],
   "source": [
    "dict_1 = {\n",
    "    \"name\" : \"sugar\",\n",
    "    \"price\" : 120.25,\n",
    "    \"weight\" : \"1kg\"\n",
    "}\n",
    "\n",
    "dict_1[\"price\"] = 350.50\n",
    "\n",
    "print(dict_1)"
   ]
  },
  {
   "cell_type": "code",
   "execution_count": 47,
   "metadata": {},
   "outputs": [
    {
     "name": "stdout",
     "output_type": "stream",
     "text": [
      "{'name': 'sugar', 'price': 250.25, 'weight': '2kg'}\n"
     ]
    }
   ],
   "source": [
    "dict_1 = {\n",
    "    \"name\" : \"sugar\",\n",
    "    \"price\" : 120.25,\n",
    "    \"weight\" : \"1kg\"\n",
    "}\n",
    "\n",
    "dict_1.update({\"weight\":\"2kg\", \"price\":250.25})\n",
    "\n",
    "print(dict_1)"
   ]
  },
  {
   "cell_type": "code",
   "execution_count": 49,
   "metadata": {},
   "outputs": [
    {
     "name": "stdout",
     "output_type": "stream",
     "text": [
      "{'name': 'sugar', 'price': 120.25, 'weight': '1kg', 'color': 'white'}\n"
     ]
    }
   ],
   "source": [
    "dict_1 = {\n",
    "    \"name\" : \"sugar\",\n",
    "    \"price\" : 120.25,\n",
    "    \"weight\" : \"1kg\"\n",
    "}\n",
    "\n",
    "dict_1[\"color\"] = \"white\"\n",
    "\n",
    "print(dict_1)"
   ]
  },
  {
   "cell_type": "code",
   "execution_count": 52,
   "metadata": {},
   "outputs": [
    {
     "name": "stdout",
     "output_type": "stream",
     "text": [
      "{'name': 'sugar', 'price': 120.25}\n"
     ]
    }
   ],
   "source": [
    "dict_1 = {\n",
    "    \"name\" : \"sugar\",\n",
    "    \"price\" : 120.25,\n",
    "    \"weight\" : \"1kg\"\n",
    "}\n",
    "\n",
    "dict_1.pop(\"weight\")\n",
    "\n",
    "print(dict_1)"
   ]
  },
  {
   "cell_type": "code",
   "execution_count": 58,
   "metadata": {},
   "outputs": [
    {
     "name": "stdout",
     "output_type": "stream",
     "text": [
      "{'name': 'sugar', 'price': 120.25}\n"
     ]
    }
   ],
   "source": [
    "dict_1 = {\n",
    "    \"name\" : \"sugar\",\n",
    "    \"price\" : 120.25,\n",
    "    \"weight\" : \"1kg\"\n",
    "}\n",
    "\n",
    "dict_1.popitem()\n",
    "\n",
    "print(dict_1)"
   ]
  },
  {
   "cell_type": "code",
   "execution_count": 63,
   "metadata": {},
   "outputs": [
    {
     "name": "stdout",
     "output_type": "stream",
     "text": [
      "{'name': 'sugar', 'price': 200.0, 'weight': '1kg'} {'name': 'sugar', 'price': 120.25, 'weight': '1kg'}\n"
     ]
    }
   ],
   "source": [
    "dict_1 = {\n",
    "    \"name\" : \"sugar\",\n",
    "    \"price\" : 120.25,\n",
    "    \"weight\" : \"1kg\"\n",
    "}\n",
    "\n",
    "dict_2 = dict_1.copy()\n",
    "\n",
    "dict_1[\"price\"] = 200.00\n",
    "\n",
    "print(dict_1, dict_2)"
   ]
  },
  {
   "cell_type": "code",
   "execution_count": 67,
   "metadata": {},
   "outputs": [
    {
     "name": "stdout",
     "output_type": "stream",
     "text": [
      "{'name': 'sugar', 'price': 200.0, 'weight': '1kg'} {'name': 'sugar', 'price': 120.25, 'weight': '1kg'}\n"
     ]
    }
   ],
   "source": [
    "dict_1 = {\n",
    "    \"name\" : \"sugar\",\n",
    "    \"price\" : 120.25,\n",
    "    \"weight\" : \"1kg\"\n",
    "}\n",
    "\n",
    "dict_2 = dict(dict_1)\n",
    "\n",
    "dict_1[\"price\"] = 200.00\n",
    "\n",
    "print(dict_1, dict_2)"
   ]
  },
  {
   "cell_type": "code",
   "execution_count": 72,
   "metadata": {},
   "outputs": [
    {
     "name": "stdout",
     "output_type": "stream",
     "text": [
      "dict_keys(['name', 'price', 'weight'])\n"
     ]
    }
   ],
   "source": [
    "dict_1 = {\n",
    "    \"name\" : \"sugar\",\n",
    "    \"price\" : 120.25,\n",
    "    \"weight\" : \"1kg\"\n",
    "}\n",
    "\n",
    "print(dict_1.keys())"
   ]
  },
  {
   "cell_type": "code",
   "execution_count": 87,
   "metadata": {},
   "outputs": [
    {
     "name": "stdout",
     "output_type": "stream",
     "text": [
      "True\n"
     ]
    }
   ],
   "source": [
    "x = input(\"Enter a value : \")\n",
    "y = int(x)%7\n",
    "print(y==0)"
   ]
  },
  {
   "cell_type": "code",
   "execution_count": 90,
   "metadata": {},
   "outputs": [
    {
     "name": "stdout",
     "output_type": "stream",
     "text": [
      "True\n",
      "False\n"
     ]
    }
   ],
   "source": [
    "x = 5\n",
    "y = 6\n",
    "\n",
    "print(x > 1 and y < 10)\n",
    "print(x > 5 and y < 10)"
   ]
  },
  {
   "cell_type": "code",
   "execution_count": 94,
   "metadata": {},
   "outputs": [
    {
     "name": "stdout",
     "output_type": "stream",
     "text": [
      "True\n",
      "False\n"
     ]
    }
   ],
   "source": [
    "x = 5\n",
    "y = 6\n",
    "\n",
    "print(x > 1 or y < 10)\n",
    "print(x > 5 or y > 10)"
   ]
  },
  {
   "cell_type": "code",
   "execution_count": 97,
   "metadata": {},
   "outputs": [
    {
     "name": "stdout",
     "output_type": "stream",
     "text": [
      "False\n"
     ]
    }
   ],
   "source": [
    "x = 5\n",
    "\n",
    "print( not x > 2)"
   ]
  },
  {
   "cell_type": "code",
   "execution_count": 110,
   "metadata": {},
   "outputs": [
    {
     "name": "stdout",
     "output_type": "stream",
     "text": [
      "False\n"
     ]
    }
   ],
   "source": [
    "x = input(\"Enter a number\")\n",
    "\n",
    "y = int(x)\n",
    "\n",
    "print(0 < y < 100 and y%2 == 1)"
   ]
  },
  {
   "cell_type": "code",
   "execution_count": 111,
   "metadata": {},
   "outputs": [
    {
     "name": "stdout",
     "output_type": "stream",
     "text": [
      "0\n"
     ]
    }
   ],
   "source": [
    "x = 5\n",
    "y = 10\n",
    "z = x & y\n",
    "\n",
    "print(z)"
   ]
  },
  {
   "cell_type": "code",
   "execution_count": 112,
   "metadata": {},
   "outputs": [
    {
     "name": "stdout",
     "output_type": "stream",
     "text": [
      "This is a positive number\n"
     ]
    }
   ],
   "source": [
    "a = 10\n",
    "\n",
    "if a < 0:\n",
    "    print(\"This is a negative number\")\n",
    "elif a > 0:\n",
    "    print(\"This is a positive number\")\n",
    "else:\n",
    "    print(\"This is 0\")"
   ]
  },
  {
   "cell_type": "code",
   "execution_count": 124,
   "metadata": {},
   "outputs": [
    {
     "name": "stdout",
     "output_type": "stream",
     "text": [
      "Your grade is D\n"
     ]
    }
   ],
   "source": [
    "marks = input(\"Enter the number\")\n",
    "\n",
    "marks = int(marks)\n",
    "\n",
    "if 100 >= marks >= 85:\n",
    "    print(\"Your grade is A\")\n",
    "elif 85 > marks >= 75:\n",
    "    print(\"Your grade is B\")\n",
    "elif 75 > marks >= 65:\n",
    "    print(\"Your grade is C\")\n",
    "elif 65 >= marks >= 55:\n",
    "    print(\"Your grade is D\") \n",
    "elif 0 > marks > 55:\n",
    "    print(\"Your grade is F\")\n",
    "else:\n",
    "    print(\"Invalid mark\")"
   ]
  },
  {
   "cell_type": "code",
   "execution_count": null,
   "metadata": {},
   "outputs": [
    {
     "name": "stdout",
     "output_type": "stream",
     "text": [
      "A is the biggest number\n"
     ]
    }
   ],
   "source": [
    "a = input(\"Enter the First Number\")\n",
    "\n",
    "b = input(\"Enter the Second Number\")\n",
    "\n",
    "c = input(\"Enter the Third Number\")\n",
    "\n",
    "a = int(a)\n",
    "b = int(b)\n",
    "c = int(c)\n",
    "\n",
    "if a > b :\n",
    "    if a > c :\n",
    "        print(\"A is the biggest number and the number is \", a)\n",
    "    else :\n",
    "        print(\"C is the biggest number the number is \", c)\n",
    "elif b > c:\n",
    "    print(\"B is the biggest number the number is\", b)\n",
    "else :\n",
    "    print(\"C is the biggest number the number is\", c)"
   ]
  }
 ],
 "metadata": {
  "kernelspec": {
   "display_name": "Python 3",
   "language": "python",
   "name": "python3"
  },
  "language_info": {
   "codemirror_mode": {
    "name": "ipython",
    "version": 3
   },
   "file_extension": ".py",
   "mimetype": "text/x-python",
   "name": "python",
   "nbconvert_exporter": "python",
   "pygments_lexer": "ipython3",
   "version": "3.13.0"
  }
 },
 "nbformat": 4,
 "nbformat_minor": 2
}
